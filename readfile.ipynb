{
 "metadata": {
  "language_info": {
   "codemirror_mode": {
    "name": "ipython",
    "version": 3
   },
   "file_extension": ".py",
   "mimetype": "text/x-python",
   "name": "python",
   "nbconvert_exporter": "python",
   "pygments_lexer": "ipython3",
   "version": "3.8.5"
  },
  "orig_nbformat": 2,
  "kernelspec": {
   "name": "python385jvsc74a57bd0380030d1298d5a27518acca789ff38fe82bbf2e68b73263de6a6bf23efb7704c",
   "display_name": "Python 3.8.5 64-bit (conda)"
  }
 },
 "nbformat": 4,
 "nbformat_minor": 2,
 "cells": [
  {
   "cell_type": "code",
   "execution_count": null,
   "metadata": {},
   "outputs": [],
   "source": [
    "def rename(df):\n",
    "    df = df.rename({'ï»¿InvoiceNo':'InvoiceNo'}, axis='columns')\n",
    "    return df"
   ]
  },
  {
   "cell_type": "code",
   "execution_count": null,
   "metadata": {},
   "outputs": [],
   "source": [
    "#create function for clean data \n",
    "def clean(df):\n",
    "    df = df.dropna()\n",
    "    df['CustomerID'] = df['CustomerID'].astype(str)\n",
    "    return df"
   ]
  },
  {
   "cell_type": "code",
   "execution_count": null,
   "metadata": {},
   "outputs": [],
   "source": [
    "#function for variable M\n",
    "def Monetary(df):\n",
    "    df['Amount'] = df['Quantity']*df['UnitPrice']\n",
    "    rfm_m = df.groupby('CustomerID')['Amount'].sum()\n",
    "    rfm_m = rfm_m.reset_index()\n",
    "    return rfm_m \n"
   ]
  },
  {
   "cell_type": "code",
   "execution_count": null,
   "metadata": {},
   "outputs": [],
   "source": [
    "#function for variable F\n",
    "def Frequency(df):\n",
    "    rfm_f = df.groupby('CustomerID')['InvoiceNo'].count()\n",
    "    rfm_f = rfm_f.reset_index()\n",
    "    rfm_f.columns = ['CustomerID', 'Frequency']\n",
    "    return rfm_f"
   ]
  },
  {
   "cell_type": "code",
   "execution_count": null,
   "metadata": {},
   "outputs": [],
   "source": [
    "#function for variable R\n",
    "def Frequency(df):\n",
    "    df['InvoiceDate'] = pd.to_datetime(df['InvoiceDate'],format='%d/%m/%Y %H:%M')\n",
    "    # Compute the maximum date to know the last transaction date\n",
    "    max_date = max(df['InvoiceDate'])\n",
    "    # Compute the difference between max date and transaction date\n",
    "    df['Diff'] = max_date - df['InvoiceDate']\n",
    "    # Compute last transaction date to get the recency of customers\n",
    "    rfm_r = df.groupby('CustomerID')['Diff'].min()\n",
    "    rfm_r = rfm_r.reset_index()\n",
    "    # Extract number of days only\n",
    "    rfm_r['Diff'] = rfm_r['Diff'].dt.days\n",
    "    return rfm_r\n",
    "\n",
    "\n",
    "\n"
   ]
  },
  {
   "cell_type": "code",
   "execution_count": null,
   "metadata": {},
   "outputs": [],
   "source": [
    "#main...............................................................................\n",
    "import pandas as pd\n",
    "retail = pd.read_csv('Online Retail.csv', sep=\",\", encoding=\"ISO-8859-1\", header=0)\n",
    "retail = rename(retail) #retail\n",
    "#retail.shape\n",
    "#retail.info()\n",
    "retail = clean(retail)\n",
    "retail.info()\n",
    "#retail.shape"
   ]
  },
  {
   "cell_type": "code",
   "execution_count": null,
   "metadata": {},
   "outputs": [],
   "source": [
    "Monetary(retail)"
   ]
  },
  {
   "cell_type": "code",
   "execution_count": null,
   "metadata": {},
   "outputs": [],
   "source": []
  }
 ]
}